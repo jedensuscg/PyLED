{
 "cells": [
  {
   "cell_type": "code",
   "execution_count": null,
   "metadata": {},
   "outputs": [],
   "source": [
    "import math\n",
    "from typing import Union\n",
    "import numpy as np\n",
    "import bisect\n",
    "from numpy.core.multiarray import array, empty\n",
    "from numpy.lib.arraysetops import setdiff1d\n",
    "#Power(Watts) = Volts(V) * Amps(A)\n",
    "led_voltages = np.array([3,3,3,2.4,2.4])\n",
    "eff_list = [.94, .82, 0.5]\n",
    "standard_resistors = [1,10,100,1000,10000,100000,1000000,1.1,11,110,1100,11000,110000,1100000,1.2,12,120,1200,12000,120000,1200000,1.3,13,130,1300,13000,130000,1300000,1.5,15,150,1500,15000,150000,1500000,1.6,16,160,1600,16000,160000,1600000,1.8,18,180,1800,18000,180000,1800000,2,20,200,2000,20000,200000,2000000,2.2,22,220,2200,22000,220000,2200000,2.4,24,240,2400,24000,240000,2400000,2.7,27,270,2700,27000,270000,2700000,3,30,300,3000,30000,300000,3000000,3.3,33,330,3300,33000,330000,3300000,3.6,36,360,3600,36000,360000,3600000,3.9,39,390,3900,39000,390000,3900000,4.3,43,430,4300,43000,430000,4300000,4.7,47,470,4700,47000,470000,4700000,5.1,51,510,5100,51000,510000,5100000,5.6,56,560,5600,56000,560000,5600000,6.2,62,620,6200,62000,620000,6200000,6.8,68,680,6800,68000,680000,6800000,7.5,75,750,7500,75000,750000,7500000,8.2,82,820,8200,82000,820000,8200000,9.1,91,910,9100,91000,910000,9100000]\n",
    "sorted_resistors = sorted(standard_resistors, key = lambda x:float(x))\n",
    "\n"
   ]
  },
  {
   "cell_type": "code",
   "execution_count": null,
   "metadata": {},
   "outputs": [],
   "source": [
    "def boost_current_draw(volts_in: int,volts_out: Union[int,tuple,list],load_current: Union[int, float],max_efficiency: float):\n",
    "    \"\"\"The current draw of circuit accounting for boost converter draw\n",
    "\n",
    "    Args:\n",
    "        volts_in (int): Voltage from the original power source\n",
    "        volts_out (Union[int,tuple,list]): Voltage required from boost converter. Total voltage if know or list of led's forward voltages.\n",
    "        load_current (Union[int, float]): The calculated current of the load\n",
    "        max_efficiency (float): The listed maximum efficiency of the boost converter\n",
    "\n",
    "    Returns:\n",
    "        [list]: [Total current in milliAmps, Total current in Amps]\n",
    "    \"\"\"\n",
    "    if type(volts_out) is np.ndarray:\n",
    "        volts_out = sum(volts_out)\n",
    "    total_current_amps = round(load_current*volts_out/(volts_in*max_efficiency),2)\n",
    "    total_current_ma = round((total_current_amps*1000))\n",
    "    #print(f\"Current output of boost converter: {total_current_ma} mA\")\n",
    "    return [total_current_ma, total_current_amps]\n"
   ]
  },
  {
   "cell_type": "code",
   "execution_count": null,
   "metadata": {},
   "outputs": [],
   "source": [
    "def Battery_Life(battery_capacity, total_load_current: float):\n",
    "    \"\"\"[summary]\n",
    "\n",
    "    Args:\n",
    "        total_load_current (float): Total current draw in Amps\n",
    "        battery_capacity (int): Rated battery capacity in mAh\n",
    "    \"\"\"\n",
    "    battery_life_list = math.modf(battery_capacity / total_load_current)\n",
    "    battery_life_whole_hour = int(battery_life_list[1])\n",
    "    battery_life_minutes = math.floor(battery_life_list[0] * 60)\n",
    "    return[battery_life_whole_hour,battery_life_minutes]\n",
    "    # print(f\"Battery Run Time = {battery_life_whole_hour}hours and {battery_life_minutes} minutes\")"
   ]
  },
  {
   "cell_type": "code",
   "execution_count": null,
   "metadata": {},
   "outputs": [],
   "source": [
    "def led_layout(volts_in: Union[int, float], led_forward_volts: Union[int, float], led_count: int, led_current: float, boost_settings: tuple = (True,9,.94), battery_mah: int = 2500):\n",
    "    \"\"\"Prints an ASCII layout of an LED circuit with given parameters. Chains to led_calc()\n",
    "\n",
    "    Args:\n",
    "        volts_in (Union[int, float]): Voltage from the original power source or boost converter\n",
    "        led_forward_volts (Union[int, float]): Rated forward voltage of the LED's being used.\n",
    "        led_count (int): number of LED's being used.\n",
    "        led_current (float): The rated current draw of the LED, in AMPS (20 mA = .02 Amps)\n",
    "        boost_settings (tuple, optional): Settings for boost converter. (isBoosted,desired boost voltage,boost coverter max efficiency) Defaults to (True,9,.94).\n",
    "        battery_mah (int, optional): Rated mAh of battery source. Defaults to 2500.\n",
    "    \"\"\"\n",
    "\n",
    "    if boost_settings[0]:\n",
    "        actual_volts_in = boost_settings[1]\n",
    "    else:\n",
    "        actual_volts_in = volts_in\n",
    "    led = \"-#-\"\n",
    "    total_LED_current = 0\n",
    "    led_per_wire = divmod(actual_volts_in,led_forward_volts)\n",
    "    total_wires = divmod(led_count,led_per_wire[0])\n",
    "    \n",
    "    max_leds_per_wire = int(led_per_wire[0])\n",
    "    full_wires_count = int(total_wires[0])\n",
    "    remaining_leds = int(total_wires[1])\n",
    "\n",
    "    \n",
    "\n",
    "    print(f\"Max LED's per parallel line: {max_leds_per_wire} LED's\")\n",
    "    print(f\"Total parallel wires with max LED's: {full_wires_count} parallel wires\")\n",
    "    if remaining_leds > 0:\n",
    "        print(f\"wire with any remaining LED's: {remaining_leds}\")\n",
    "\n",
    "    for x in range(0, full_wires_count):\n",
    "        total_LED_current += led_current\n",
    "        resistor = get_current_limiter(actual_volts_in,led_forward_volts,max_leds_per_wire,led_current)\n",
    "        if x == 0:\n",
    "            print(f\"{actual_volts_in}V-+\" + led * max_leds_per_wire + f\"[{resistor}\\u03A9]-\")\n",
    "        else:\n",
    "            print(' '*len(str(actual_volts_in)) + \" -+\" + led * max_leds_per_wire + f\"[{resistor}\\u03A9]-\")\n",
    "    \n",
    "    if remaining_leds > 0:\n",
    "        total_LED_current += led_current\n",
    "        resistor_remain = get_current_limiter(actual_volts_in,led_forward_volts,remaining_leds,led_current)\n",
    "        print(' '*len(str(actual_volts_in)) + \" +\" + led * remaining_leds + f\"[{resistor_remain}\\u03A9]-\")\n",
    "\n",
    "\n",
    "    led_calc(volts_in,boost_settings[1],boost_settings[2],battery_mah,load_amp = total_LED_current, isBoosted = boost_settings[0])"
   ]
  },
  {
   "cell_type": "code",
   "execution_count": null,
   "metadata": {},
   "outputs": [],
   "source": [
    "def get_current_limiter(volts_in:float,led_forward_volts:float, max_leds_per_wire:int,led_current:float):\n",
    "    \"\"\"Gets the best current limiting resistor for a given line in the LED circuit, based on a standard list of resistors.\n",
    "\n",
    "    Args:\n",
    "        volts_in (float): The input voltage from power source.\n",
    "        led_forward_volts (float): Rated forward voltage of the LED's in this wire.\n",
    "        max_leds_per_wire (int): Number of LED's that will be on this wire.\n",
    "        led_current (float): The rated current draw of the LED's used.\n",
    "\n",
    "    Returns:\n",
    "        [int]: The calculated resistor to use.\n",
    "    \"\"\"\n",
    "    resistor = math.ceil((volts_in - (led_forward_volts * max_leds_per_wire)) / led_current)\n",
    "    if resistor == 0:\n",
    "        return 1\n",
    "    else:\n",
    "        if not resistor in sorted_resistors:\n",
    "            next_highest = sorted_resistors[bisect.bisect(sorted_resistors, resistor)]\n",
    "            return next_highest\n",
    "        else:\n",
    "            return resistor\n",
    "get_current_limiter(16,3.3,2,.02)"
   ]
  },
  {
   "cell_type": "code",
   "execution_count": null,
   "metadata": {},
   "outputs": [],
   "source": [
    "def led_calc(volts_in: Union[int,float], volts_out:Union[int,float], max_efficiency: float, battery_capacity: int, load_amp: float = .02, load_ma: float = 0, isBoosted: bool = False,):\n",
    "    \"\"\"Outputs total current draw from power source, including that from boost converter. Gives battery run times.\n",
    "    Args:\n",
    "        volts_in (Union[int,float]): Voltage from the original power source or boost converter  \n",
    "        volts_out (Union[int,float]): Desired voltage from boost converter\n",
    "        max_efficiency (float): Max  rated efficiency of boost converter\n",
    "        battery_capacity (int): Rated capacity of battery in mAh\n",
    "        load_amp (float, optional): Current draw of the LED's, in Amps. Default .02 Optional\n",
    "        load_ma (float, optional): Current Current draw of the LED's, in milliAmps. Default 0. Any other numbers will override load_amp setting.\n",
    "        isBoosted (bool, optional): Sets if the circuit is using a boost converter, or straight draw from the power source(i.e battery)\n",
    "    \"\"\"\n",
    "\n",
    "    eff_list[0] = max_efficiency\n",
    "    battery_life_list = []\n",
    "    length = len(eff_list)\n",
    "    if load_ma != 0:\n",
    "        load_amp = load_ma / 1000\n",
    "        print(\"Ignoring load_amp value(is entered) as mA value was input\")\n",
    "    if isBoosted:\n",
    "        for i in range(length):\n",
    "            total_load_current = boost_current_draw(volts_in,volts_out,load_amp, eff_list[i])\n",
    "            eff_load_ma = total_load_current[0]\n",
    "            eff_load_amp = total_load_current[1]\n",
    "            battery_life = Battery_Life(battery_capacity,eff_load_ma)\n",
    "            battery_life_list.append([eff_load_ma,eff_load_amp,battery_life])\n",
    "        print_current_msg = \"Total current draw including boost converter:\"\n",
    "    else:\n",
    "        battery_life_list.append(Battery_Life(battery_capacity,load_amp * 1000))\n",
    "        print_current_msg = \"Total current draw:\"\n",
    "\n",
    "    if len(battery_life_list) > 1:\n",
    "        for x in range(len(battery_life_list)):\n",
    "            print(f\"***Boost converter efficiency of {eff_list[x] * 100}%***\")\n",
    "            print(f\"Battery Run Time = {battery_life_list[x][2][0]}hours and {battery_life_list[x][2][1]} minutes.\")\n",
    "            print(f\"{print_current_msg} {battery_life_list[x][0]} mA / {battery_life_list[x][1]} Amps\\n\")\n",
    "    else:\n",
    "        print(f\"Battery Run Time = {battery_life_list[0][0]}hours and {battery_life_list[0][1]} minutes.\")\n",
    "        print(f\"{print_current_msg} {load_amp * 1000} mA / {load_amp} Amps\")\n",
    "    "
   ]
  },
  {
   "cell_type": "code",
   "execution_count": null,
   "metadata": {},
   "outputs": [],
   "source": [
    "led_layout(4.5,3,6,.02,(True,18,.9),2300,)"
   ]
  },
  {
   "cell_type": "code",
   "execution_count": null,
   "metadata": {},
   "outputs": [],
   "source": [
    "led_calc(4.5,18,.94,750,load_ma=20,isBoosted=True)"
   ]
  },
  {
   "cell_type": "markdown",
   "metadata": {},
   "source": [
    "#### Formulas\n",
    "Current Limiting Resister: <code>R = Vs - Vf / I</code><br>\n",
    "<i>I must be in Amps. (20 mA = 20 / 1000 = .02 Amp)</i><br>\n",
    "\n",
    "\n",
    "\n",
    "    \n",
    "\n"
   ]
  }
 ],
 "metadata": {
  "interpreter": {
   "hash": "d96656693eb7f420d1e5633d7986c8f5378416fdaad6a143bfb7e24089045444"
  },
  "kernelspec": {
   "display_name": "Python 3.10.1 64-bit",
   "language": "python",
   "name": "python3"
  },
  "language_info": {
   "codemirror_mode": {
    "name": "ipython",
    "version": 3
   },
   "file_extension": ".py",
   "mimetype": "text/x-python",
   "name": "python",
   "nbconvert_exporter": "python",
   "pygments_lexer": "ipython3",
   "version": "3.10.1"
  },
  "orig_nbformat": 4
 },
 "nbformat": 4,
 "nbformat_minor": 2
}
